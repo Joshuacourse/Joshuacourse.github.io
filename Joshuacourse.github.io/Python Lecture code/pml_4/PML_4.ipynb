{
 "cells": [
  {
   "cell_type": "markdown",
   "metadata": {},
   "source": [
    "# Python Machine Learning 4 - Classification 2\n",
    "\n",
    "<p><a name=\"sections\"></a></p>\n",
    "\n",
    "\n",
    "## Sections\n",
    "\n",
    "- <a href=\"#svm\">Support Vector Machine</a><br>\n",
    "- <a href=\"#svm-sklearn\">SVM in Scikit Learn</a><br>\n",
    " - <a href=\"#1caes1\">Case 1: Binary Classification</a><br>\n",
    "     - <a href=\"#1ex1\">Exercise</a><br>\n",
    " - <a href=\"#1caes2\">Case 2: Multiclass Classification</a><br>\n",
    "     - <a href=\"#1ex2\">Exercise</a><br>\n",
    " - <a href=\"#1caes3\">Case 3: Grid Search</a><br>\n",
    "- <a href=\"#tree\">Decision Tree in Scikit Learn</a><br>\n",
    "  - <a href=\"#2ex1\">Exercise</a><br>\n",
    "  - <a href=\"#2case1\">Case 1: Iris Data</a><br>\n",
    "  - <a href=\"#2case2\">Case 2: Spam Filter</a><br>\n",
    "  - <a href=\"#2case3\">Case 3: Grid Search</a><br>\n",
    "  - <a href=\"#2case4\">Case 4: Depth of Tree</a><br>\n",
    "- <a href=\"#rf\">Random Forest in Scikit Learn</a><br>\n",
    "  - <a href=\"#3case1\">Case 1: Iris Data</a><br>\n",
    "  - <a href=\"#3case2\">Case 2: Spam Filter</a><br>\n",
    "  - <a href=\"#3case3\">Case 3: Grid Search</a><br>\n",
    "  - <a href=\"#3case4\">Case 4: Number of Trees</a><br>"
   ]
  },
  {
   "cell_type": "markdown",
   "metadata": {},
   "source": [
    "<p><a name=\"svm\"></a></p>\n",
    "## Support Vector Machines\n",
    "\n",
    "- Support vector machines (SVMs) are supervised learning methods used for classification analysis.\n",
    "\n",
    "- Unlike linear discriminant analysis or logistic regression, SVMs approach the two-class classification problem in a direct way: construct linear decision boundaries, by explicitly separating the data in two different classes as well as possible.\n",
    "\n",
    "- The decision boundaries are called hyperplanes in the feature space.\n"
   ]
  },
  {
   "cell_type": "markdown",
   "metadata": {},
   "source": [
    "### Hyperplanes\n",
    "\n",
    "A hyperplane of a *p-dimensional* space *V* is a subspace of dimension *p-1*.\n",
    "\n",
    "- A hyperplane can be described with a single linear equation of the form (in Cartesian coordinates):\n",
    "\n",
    "$$\\beta_0 + \\beta_1 X_1 + ... + \\beta_p X_p = 0$$\n",
    "\n",
    "  - It is more convenient to be written in the matrix form $\\beta_0 + \\beta^T X = 0$, where $\\beta = (\\beta_1, ... \\beta_p)$ and $X = (X_1, ... X_p)$ are *p-dimensional* vectors.\n",
    "  \n",
    "  - In a 2-dimensional space, a hyperplane is a line and in a 3-dimensional space it is a plane.\n",
    "\n",
    "\n",
    "- The coefficient vector $\\beta$ is the **normal vector** - a vector orthogonal to the surface of that hyperplane.\n",
    "\n",
    "- In some cases we need to work with the normalized form: $\\beta^* = \\beta / \\lvert \\beta \\rvert$, or equivalently, to require that $\\sum_i^p \\beta_i^2 = 1$\n",
    "\n",
    "Some properties:\n",
    "\n",
    "- For any point $x_0$ in the hyperplane, $\\beta^T x_0 = -\\beta_0$\n",
    "\n",
    "- For any two points $x_1$ and $x_2$ lying in the hyperplane, we always have $\\beta^T (x_1 - x_2) = 0$, that is, the normal vector $\\beta$ is perpendicular to any vectors within the hyperplane.\n",
    "\n",
    "- The signed distance of any point $x$ to the hyperplane is given by:\n",
    "\n",
    "$$f(x) = \\frac{1}{\\lvert \\beta \\rvert}(\\beta^T x + \\beta_0)$$\n"
   ]
  },
  {
   "cell_type": "markdown",
   "metadata": {},
   "source": [
    "### Separating Hyperplanes\n",
    "\n",
    "- If we assume that the data can be well separated by a hyperplane defined by $f(X) = \\beta_0 + \\beta^T X = 0$, then:\n",
    "\n",
    "  - $f(X) > 0$, for points on one side of the hyperplane,\n",
    "  - $f(X) < 0$, for points on the other side.\n",
    "\n",
    "- We coded the two classes as:\n",
    "\n",
    "  - $y = 1$, for $f(X) > 0$\n",
    "  - $y = -1$, for $f(X) < 0$\n",
    "\n",
    "- The distances times the classes become positive: $y_i \\cdot f(X_i) > 0$"
   ]
  },
  {
   "cell_type": "markdown",
   "metadata": {},
   "source": [
    "### Optimal Separating Hyperplanes\n",
    "\n",
    "- Goal: to maximize the margin, defined by the distance from the data point to a hyperplane,  between the two classes on the training data.\n",
    "\n",
    "- The data points that are used to determine the margins are called support vectors.\n"
   ]
  },
  {
   "cell_type": "markdown",
   "metadata": {},
   "source": [
    "### Maximal Margin Classifier\n",
    "\n",
    "The optimal separating hyperplane leads to a constrained optimization problem:\n",
    "\n",
    "$$\\underset{\\beta_0, \\lvert \\beta \\rvert = 1}{\\mathrm{max}} M$$\n",
    "\n",
    "$$\\mbox{subject to  }y_i(x_i^T \\beta + \\beta_0) \\geq M, i = 1, ..., N$$.\n",
    "\n",
    "The set of conditions ensure that the distances from all the points to the decision boundary defined by $\\beta$ and $\\beta_0$ are at least $M$, and we seek the largest $M$ by varying the parameters.\n",
    "\n",
    "We can get rid of the constraint $\\lvert \\beta \\rvert = 1$ by replacing the condition with:\n",
    "\n",
    "$$y_i(x_i^T \\beta + \\beta_0) \\geq M \\lvert \\beta \\rvert$$.\n",
    "\n",
    "For any $\\beta$ and $\\beta_0$ satisfying the inequalities, any positively scaled multiple satisfies them too. If we set $\\lvert \\beta \\rvert = 1/M$, we can rephrase the problem to a more convenient form by dropping the norm constraint on $\\beta$:\n",
    "\n",
    "$$\\underset{\\beta_0, \\beta}{\\mathrm{min}} \\frac{1}{2}\\lvert \\beta \\rvert^2$$\n",
    "\n",
    "$$\\mbox{subject to  }y_i(x_i^T \\beta + \\beta_0) \\geq 1$$\n",
    "\n",
    "This is a convex quadratic problem, and can be solved efficiently."
   ]
  },
  {
   "cell_type": "markdown",
   "metadata": {},
   "source": [
    "### Noisy Data\n",
    "\n",
    "- The technique for constructing an optimal separating hyperplane can be applied to cases of two perfectly separated classes.\n",
    "\n",
    "- However, sometimes the data can be noisy, which can lead to a poor solution for the maximal margin classifier.\n"
   ]
  },
  {
   "cell_type": "markdown",
   "metadata": {},
   "source": [
    "### Non-separable Data\n",
    "\n",
    "- Even worse, quite often the data is not separable by a linear boundary.\n",
    "\n",
    "- What shall we do?\n"
   ]
  },
  {
   "cell_type": "markdown",
   "metadata": {},
   "source": [
    "### The Support Vector Classifier\n",
    "\n",
    "- To tolerate noise and errors, we still maximize M but meanwhile allow some points to be on the wrong side of the hyperplane.\n",
    "\n",
    "- We introduce “slack” variables $\\epsilon = (\\epsilon_1, ... \\epsilon_N)$ with $\\epsilon_i \\geq 0$ and $\\sum_i \\epsilon_i \\leq \\mbox{Const}$, and modify the optimization problem to be:\n",
    "\n",
    "$$\n",
    "\\underset{\\beta_0, \\epsilon, \\lvert \\beta \\rvert = 1}{\\mathrm{max}} M\n",
    "$$\n",
    "\n",
    "$$\n",
    "\\mbox{ subject to }\n",
    "\\begin{cases}\n",
    "y_i(x_i^T \\beta + \\beta_0) \\geq M (1 - \\epsilon_i)\n",
    "\\\\\n",
    "\\epsilon_i \\geq 0 \\mbox{, and } \\sum_i \\epsilon_i \\leq \\mbox{Const}\n",
    "\\end{cases}\n",
    "$$\n",
    "\n",
    "- $\\epsilon_i$ are proportional to the amount by which the prediction is on the wrong side of their margin. \n",
    "- Misclassifications occur when $\\epsilon_i > 1$. So given that the constraint $\\sum \\epsilon_i = \\mbox{Const}$, the total number of misclassifications will be bounded by $\\mbox{Const}$.\n",
    "\n",
    "- The effect of the data points that fall into the margin will be penalized by the slack variable $\\epsilon$.\n",
    "\n",
    "\n",
    "Computationally it's convenient to use the form:\n",
    "\n",
    "$$\n",
    "\\underset{\\beta_0, \\beta}{\\mathrm{min}} \\big( \\frac{1}{2} \\lvert \\beta \\rvert^2 + C \\sum_{i=1}^N \\epsilon_i \\big)\n",
    "$$\n",
    "\n",
    "$$\n",
    "\\mbox{ subject to }\n",
    "\\begin{cases}\n",
    "y_i(x_i^T \\beta + \\beta_0) \\geq 1 - \\epsilon_i\n",
    "\\\\\n",
    "\\epsilon_i \\geq 0\n",
    "\\end{cases}\n",
    "$$\n",
    "\n",
    "where $C$ is the penalty parameter of the error term.\n",
    "\n",
    "- If $C$ is close to 0 then we have a wide, soft margin.\n",
    "\n",
    "- If $C$ is large then we are close to the hard-margin formulation.\n"
   ]
  },
  {
   "cell_type": "markdown",
   "metadata": {},
   "source": [
    "### Beyond Linearity\n",
    "\n",
    "The support vector classifier described so far finds linear boundaries in the feature space.\n",
    "\n",
    "In reality, it's very unlikely that the true boundary is actually linear in $X$.\n",
    "\n",
    "If a linear boundary fails, we need to move beyond linearity. \n",
    "\n",
    "The core idea is to enlarge the features $X$ using basis expansions such as polynomials, and then use linear models in the enlarged space of derived input features, and translate to nonlinear boundaries in the original space.\n",
    "\n",
    "Example: \n",
    "- We enlarge the feature space $(X_1, X_2)$ to $(X_1, X_2, X_1^2, X_2^2, X_1X_2)$\n",
    "- The boundary is then a hyperplane in *5-dimensional* space determined by:\n",
    "$$\n",
    "\\beta_0 + \\beta_1 X_1 + \\beta_2 X_2, + \\beta_3 X_1^2 + \\beta_4 X_1 X_2 + \\beta_4 X_2^2 = 0\n",
    "$$\n",
    "\n",
    "*Examples*"
   ]
  },
  {
   "cell_type": "markdown",
   "metadata": {},
   "source": [
    "### Kernels\n",
    "\n",
    "- In general, the idea for nonlinearity is to map the feature X to a high dimensional space by some mapping functions $h(x)$.\n",
    "\n",
    "- Notice that only the inner-products of the input vectors play a role in the optimization problem (the proof of this requires to derive a so called Lagrangian dual function which is beyond the scope of this course).\n",
    "\n",
    "- A more elegant and controlled way to have nonlinear boundaries is to use kernels.\n",
    "\n",
    "- We first introduce the notation for inner product of two vectors:\n",
    "\n",
    "$$\\left \\langle x, x^\\prime \\right \\rangle = \\sum_{i=1}^p x_i x_i^\\prime$$\n",
    "\n",
    "- It can be mathematically proven that the linear vector classifier can be represented as\n",
    "\n",
    "$$f(x) = \\beta_0 + \\sum_{i=1}^N \\alpha_i y_i\\left \\langle x, x_i \\right \\rangle$$\n",
    "\n",
    "- where $\\alpha_i > 0$ are parameters subject to $0 < \\alpha_i < C$. For the data points that are not  support vectors, their $\\alpha_i$ are equal to 0.\n",
    "\n",
    "- Since the support vector classifiers involve the mapping h(X) only through inner products, instead of specifying the transformation, we only need to provide a kernel function\n",
    "\n",
    "$$K(x, x^\\prime) = \\left \\langle h(x), h(x^\\prime) \\right \\rangle$$\n",
    "\n",
    "- Some popular choices for kernel functions for SVMs are:\n",
    "\n",
    "  - *d*th-Degree polynomial: $K(x, x^\\prime) = (1+\\left \\langle x, x^\\prime \\right \\rangle)^d$\n",
    "  \n",
    "  - Radial basis: $K(x, x^\\prime) = \\exp(-\\gamma \\lvert x - x^\\prime \\rvert)^2$\n",
    "  \n",
    "  \n",
    "$$f(x) = \\beta_0 + \\sum_{i=1}^N \\alpha_i y_i K(x, x_i)$$"
   ]
  },
  {
   "cell_type": "markdown",
   "metadata": {
    "collapsed": true
   },
   "source": [
    "<p><a name=\"svm-sklearn\"></a></p>\n",
    "## SVM in Scikit Learn\n",
    "\n",
    "- In order to implement SVM in python, import **svm** module from sklearn library."
   ]
  },
  {
   "cell_type": "code",
   "execution_count": 1,
   "metadata": {
    "collapsed": true
   },
   "outputs": [],
   "source": [
    "from sklearn import svm\n",
    "svm_model = svm.SVC(kernel ='poly', C = 1e5, degree=1)"
   ]
  },
  {
   "cell_type": "markdown",
   "metadata": {},
   "source": [
    "- Here we choose the 'poly' kernel, and set the degree equals to 1, which means a linear boundary.\n",
    "- $C=1e5$ is used to decrease the effect of the error term."
   ]
  },
  {
   "cell_type": "markdown",
   "metadata": {},
   "source": [
    "### Kernels\n",
    "\n",
    "These are the kernels that sklearn offers:\n",
    "\n",
    "- **linear**: $<x_1, x_2>$.\n",
    "- **polynomial**: $(\\gamma <x_1, x_2> + r)^d$. $d$ is specified by the argument *degree*, $r$ by *coef0*.\n",
    "- **rbf**: $\\exp(-\\gamma \\parallel x_1-x_2 \\parallel^2)$. $\\gamma$ is specified by the argument *gamma*, must be greater than 0.\n",
    "- **sigmoid**: $(\\tanh(\\gamma <x_1,x_2> + r))$, where $r$ is specified by *coef0*.\n",
    "\n",
    "The linear kernel is the original feature space. In terms of the polynomial kernel, it's equivalent to linear kernel when $\\gamma=1$ and $r=0$."
   ]
  },
  {
   "cell_type": "markdown",
   "metadata": {},
   "source": [
    "### Arguments:\n",
    "\n",
    "- **kernel**: Specifies the kernel type to be used in the algorithm. It must be one of ‘linear’, ‘poly’, ‘rbf’, ‘sigmoid’, ‘precomputed’ or a callable. If none is given, ‘rbf’ will be used. If a callable is given, it is used to precompute the kernel matrix.\n",
    "\n",
    "- **C**: Penalty parameter of the error term. $C=1$ by default.\n",
    "\n",
    "- **degree**: Degree of the polynomial kernel function (‘poly’). Ignored by all other kernels."
   ]
  },
  {
   "cell_type": "markdown",
   "metadata": {},
   "source": [
    "### Methods:\n",
    "\n",
    "- **fit**: Fit the SVM model according to the given training data.\n",
    "- **score**: Return the mean accuracy on the given test data and labels.\n",
    "- **predict**: Perform classification on samples in X.\n",
    "- **set_params**: Set the parameters of this estimator.\n",
    "- **get_params**: Get the parameters of this estimator."
   ]
  },
  {
   "cell_type": "markdown",
   "metadata": {},
   "source": [
    "### Attributes:\n",
    "\n",
    "- **support\\_**: return the index of the support vectors.\n",
    "- **n\\_support\\_**: return the number of support vectors.\n",
    "- **support\\_vectors\\_**: return the value of support vectors."
   ]
  },
  {
   "cell_type": "markdown",
   "metadata": {},
   "source": [
    "<p><a name=\"1case1\"></a></p>\n",
    "### Case 1: Binary Classification\n",
    "\n",
    "We demonstrate the `svm` model on the first 100 observation of the iris data, which include two species."
   ]
  },
  {
   "cell_type": "code",
   "execution_count": 2,
   "metadata": {
    "collapsed": false
   },
   "outputs": [
    {
     "data": {
      "text/plain": [
       "SVC(C=100000.0, cache_size=200, class_weight=None, coef0=0.0,\n",
       "  decision_function_shape=None, degree=1, gamma='auto', kernel='poly',\n",
       "  max_iter=-1, probability=False, random_state=None, shrinking=True,\n",
       "  tol=0.001, verbose=False)"
      ]
     },
     "execution_count": 2,
     "metadata": {},
     "output_type": "execute_result"
    }
   ],
   "source": [
    "import numpy as np\n",
    "from sklearn import datasets\n",
    "## prepare data\n",
    "iris = datasets.load_iris()\n",
    "index = range(100)\n",
    "iris.x = iris.data[index, :]\n",
    "iris.y = iris.target[index]\n",
    "## fit\n",
    "svm_model.fit(iris.x[:, 0:2], iris.y)"
   ]
  },
  {
   "cell_type": "code",
   "execution_count": 3,
   "metadata": {
    "collapsed": false
   },
   "outputs": [
    {
     "data": {
      "text/plain": [
       "1.0"
      ]
     },
     "execution_count": 3,
     "metadata": {},
     "output_type": "execute_result"
    }
   ],
   "source": [
    "svm_model.score(iris.x[:, 0:2], iris.y)"
   ]
  },
  {
   "cell_type": "code",
   "execution_count": 4,
   "metadata": {
    "collapsed": false
   },
   "outputs": [
    {
     "data": {
      "text/plain": [
       "array([2, 2], dtype=int32)"
      ]
     },
     "execution_count": 4,
     "metadata": {},
     "output_type": "execute_result"
    }
   ],
   "source": [
    "svm_model.n_support_"
   ]
  },
  {
   "cell_type": "code",
   "execution_count": 5,
   "metadata": {
    "collapsed": false
   },
   "outputs": [
    {
     "name": "stdout",
     "output_type": "stream",
     "text": [
      "[36 41 57 84]\n"
     ]
    }
   ],
   "source": [
    "svm_index = svm_model.support_ # index of support vector\n",
    "print svm_index"
   ]
  },
  {
   "cell_type": "code",
   "execution_count": 6,
   "metadata": {
    "collapsed": false
   },
   "outputs": [
    {
     "name": "stdout",
     "output_type": "stream",
     "text": [
      "[[ 5.5  3.5]\n",
      " [ 4.5  2.3]\n",
      " [ 4.9  2.4]\n",
      " [ 5.4  3. ]]\n"
     ]
    }
   ],
   "source": [
    "## There are two support vectors in each class.\n",
    "\n",
    "support = svm_model.support_vectors_ # value of support vector\n",
    "print support "
   ]
  },
  {
   "cell_type": "code",
   "execution_count": 7,
   "metadata": {
    "collapsed": false
   },
   "outputs": [
    {
     "data": {
      "text/plain": [
       "array([[ 5.5,  3.5],\n",
       "       [ 4.5,  2.3],\n",
       "       [ 4.9,  2.4],\n",
       "       [ 5.4,  3. ]])"
      ]
     },
     "execution_count": 7,
     "metadata": {},
     "output_type": "execute_result"
    }
   ],
   "source": [
    "iris.x[svm_model.support_, 0:2] # equivalent to svm_model.support_vectors_"
   ]
  },
  {
   "cell_type": "markdown",
   "metadata": {},
   "source": [
    "Below we visualize the result:"
   ]
  },
  {
   "cell_type": "code",
   "execution_count": 8,
   "metadata": {
    "collapsed": true
   },
   "outputs": [],
   "source": [
    "def plotModel(model, x, y, label):\n",
    "    '''\n",
    "    model: a fitted model\n",
    "    x, y: two variables, should arrays\n",
    "    label: true label\n",
    "    '''\n",
    "    margin = 0.5\n",
    "    x_min = x.min() - margin\n",
    "    x_max = x.max() + margin\n",
    "    y_min = y.min() - margin\n",
    "    y_max = y.max() + margin\n",
    "    import  matplotlib.pyplot as pl\n",
    "    from matplotlib import colors\n",
    "    colDict = {'red': [(0, 1, 1), (1, 0.7, 0.7)],\n",
    "               'green': [(0, 1, 0.5), (1, 0.7, 0.7)],\n",
    "               'blue': [(0, 1, 0.5), (1, 1, 1)]}\n",
    "    cmap = colors.LinearSegmentedColormap('red_blue_classes', colDict)\n",
    "    pl.cm.register_cmap(cmap=cmap)\n",
    "    nx, ny = 200, 200\n",
    "    xx, yy = np.meshgrid(np.linspace(x_min, x_max, nx),\n",
    "                         np.linspace(y_min, y_max, ny))\n",
    "    Z = model.predict(np.c_[xx.ravel(), yy.ravel()])\n",
    "    Z = Z.reshape(xx.shape)\n",
    "    ## plot colormap\n",
    "    pl.pcolormesh(xx, yy, Z, cmap='red_blue_classes')\n",
    "    ## plot boundaries\n",
    "    pl.contour(xx, yy, Z, [0.5], linewidths=1., colors='k')\n",
    "    pl.contour(xx, yy, Z, [1], linewidths=1., colors='k')\n",
    "    ## plot scatters ans true labels\n",
    "    pl.scatter(x, y, c = label)\n",
    "    pl.xlim(x_min, x_max)\n",
    "    pl.ylim(y_min, y_max)\n",
    "    ## if it's a SVM model\n",
    "    try:\n",
    "        # if it's a SVC, plot the support vectors\n",
    "        index = model.support_\n",
    "        pl.scatter(x[index], y[index], c = label[index], s = 100, alpha = 0.5)\n",
    "    except:\n",
    "        pass"
   ]
  },
  {
   "cell_type": "code",
   "execution_count": 9,
   "metadata": {
    "collapsed": false
   },
   "outputs": [
    {
     "name": "stdout",
     "output_type": "stream",
     "text": [
      "Populating the interactive namespace from numpy and matplotlib\n"
     ]
    },
    {
     "data": {
      "text/plain": [
       "<matplotlib.text.Text at 0x10e4284d0>"
      ]
     },
     "execution_count": 9,
     "metadata": {},
     "output_type": "execute_result"
    },
    {
     "data": {
      "image/png": "[encoded data removed]",
      "text/plain": [
       "<matplotlib.figure.Figure at 0x10d3a0710>"
      ]
     },
     "metadata": {},
     "output_type": "display_data"
    }
   ],
   "source": [
    "%pylab inline\n",
    "import  matplotlib.pyplot as pl\n",
    "pl.rcParams['figure.figsize'] = 8,6\n",
    "svm_model.fit(iris.data[index, 0:2], iris.target[index])\n",
    "plotModel(svm_model, iris.data[index, 0], iris.data[index, 1], iris.target[index])\n",
    "pl.xlabel('Sepal Length')\n",
    "pl.ylabel('Sepal Width')"
   ]
  },
  {
   "cell_type": "markdown",
   "metadata": {},
   "source": [
    "#### Change the Degree\n",
    "\n",
    "This time we set *degree=3*, which result in a cubic boundary:"
   ]
  },
  {
   "cell_type": "code",
   "execution_count": 10,
   "metadata": {
    "collapsed": false
   },
   "outputs": [
    {
     "data": {
      "text/plain": [
       "<matplotlib.text.Text at 0x10e56c610>"
      ]
     },
     "execution_count": 10,
     "metadata": {},
     "output_type": "execute_result"
    },
    {
     "data": {
      "image/png": "[encoded data removed]",
      "text/plain": [
       "<matplotlib.figure.Figure at 0x10e4b0a50>"
      ]
     },
     "metadata": {},
     "output_type": "display_data"
    }
   ],
   "source": [
    "svm_model.set_params(degree=3)\n",
    "svm_model.fit(iris.data[index, 0:2], iris.target[index])\n",
    "plotModel(svm_model, iris.data[index, 0], iris.data[index, 1], iris.target[index])\n",
    "pl.xlabel('Sepal Length')\n",
    "pl.ylabel('Sepal Width')"
   ]
  },
  {
   "cell_type": "markdown",
   "metadata": {},
   "source": [
    "<p><a name=\"1ex1\"></a></p>\n",
    "### Exercise\n",
    "\n",
    "With the `svm_model` from the previous slide:\n",
    "- Compute the accuracy."
   ]
  },
  {
   "cell_type": "code",
   "execution_count": null,
   "metadata": {
    "collapsed": true
   },
   "outputs": [],
   "source": [
    "#### Your code here"
   ]
  },
  {
   "cell_type": "markdown",
   "metadata": {},
   "source": [
    "- Find out all the support vectors."
   ]
  },
  {
   "cell_type": "code",
   "execution_count": null,
   "metadata": {
    "collapsed": true
   },
   "outputs": [],
   "source": [
    "#### Your code here"
   ]
  },
  {
   "cell_type": "markdown",
   "metadata": {},
   "source": [
    "- Which classes do they belong to?"
   ]
  },
  {
   "cell_type": "code",
   "execution_count": null,
   "metadata": {
    "collapsed": true
   },
   "outputs": [],
   "source": [
    "#### Your code here"
   ]
  },
  {
   "cell_type": "markdown",
   "metadata": {},
   "source": [
    "<p><a name=\"1case2\"></a></p>\n",
    "### Case 2: Multiclass Classification\n",
    "\n",
    "- In cases of multiclass classification problem, **SVC** implement a *one vs one* approach.\n",
    "\n",
    "- If there are $k$ different classes in total, then $\\frac{k(k-1)}{2}$ classifiers are constructed.\n",
    "\n",
    "For instance, 3 classes 0, 1 and 2 will result in 3 classifiers:\n",
    "\n",
    "- class 0 VS class 1\n",
    "- class 0 VS class 2\n",
    "- class 1 VS class 2\n",
    "\n",
    "\n",
    "\n",
    "This time we use all the observations in the iris data to build a multiclass classifier. And we choose the last two features \"petal length\" and \"petal width\"."
   ]
  },
  {
   "cell_type": "code",
   "execution_count": 14,
   "metadata": {
    "collapsed": false
   },
   "outputs": [
    {
     "data": {
      "text/plain": [
       "0.95999999999999996"
      ]
     },
     "execution_count": 14,
     "metadata": {},
     "output_type": "execute_result"
    }
   ],
   "source": [
    "svm_model.set_params(degree=1) # reset degree to 1 to build a linear classifier\n",
    "svm_model.fit(iris.data[:, 2:4], iris.target) # fit on all the observations\n",
    "svm_model.score(iris.data[:, 2:4], iris.target) # accuracy"
   ]
  },
  {
   "cell_type": "code",
   "execution_count": 15,
   "metadata": {
    "collapsed": false
   },
   "outputs": [
    {
     "data": {
      "text/plain": [
       "array([0])"
      ]
     },
     "execution_count": 15,
     "metadata": {},
     "output_type": "execute_result"
    }
   ],
   "source": [
    "## Make a prediction:\n",
    "svm_model.predict([[1, 4]])"
   ]
  },
  {
   "cell_type": "markdown",
   "metadata": {},
   "source": [
    "Visualize the result:"
   ]
  },
  {
   "cell_type": "code",
   "execution_count": 16,
   "metadata": {
    "collapsed": false
   },
   "outputs": [
    {
     "data": {
      "text/plain": [
       "<matplotlib.text.Text at 0x10ec92650>"
      ]
     },
     "execution_count": 16,
     "metadata": {},
     "output_type": "execute_result"
    },
    {
     "data": {
      "image/png": "[encoded data removed]",
      "text/plain": [
       "<matplotlib.figure.Figure at 0x10d34d990>"
      ]
     },
     "metadata": {},
     "output_type": "display_data"
    }
   ],
   "source": [
    "plotModel(svm_model, iris.data[:, 2], iris.data[:, 3], iris.target)\n",
    "pl.xlabel('Petal Length')\n",
    "pl.ylabel('Petal Width')"
   ]
  },
  {
   "cell_type": "markdown",
   "metadata": {},
   "source": [
    "<p><a name=\"1ex2\"></a></p>\n",
    "### Exercise\n",
    "\n",
    "Predict the following observations with the model we created and then confirm the result with the visualization in the previous slide.\n",
    "- petal length: 1.5, petal width: 0.5\n",
    "- petal length: 4.0, petal width: 0.5\n",
    "- petal length: 6.0, petal width: 2.5"
   ]
  },
  {
   "cell_type": "code",
   "execution_count": null,
   "metadata": {
    "collapsed": true
   },
   "outputs": [],
   "source": [
    "#### Your code here"
   ]
  },
  {
   "cell_type": "markdown",
   "metadata": {},
   "source": [
    "Below we change to a different constant `C` (reset `C = 1` from `C=1e5` to decrease the effect of penalty)"
   ]
  },
  {
   "cell_type": "code",
   "execution_count": 18,
   "metadata": {
    "collapsed": false
   },
   "outputs": [
    {
     "data": {
      "text/plain": [
       "0.96666666666666667"
      ]
     },
     "execution_count": 18,
     "metadata": {},
     "output_type": "execute_result"
    }
   ],
   "source": [
    "svm_model.set_params(C=1)\n",
    "svm_model.fit(iris.data[:, 2:4], iris.target) \n",
    "svm_model.score(iris.data[:, 2:4], iris.target) "
   ]
  },
  {
   "cell_type": "code",
   "execution_count": 19,
   "metadata": {
    "collapsed": false
   },
   "outputs": [
    {
     "data": {
      "text/plain": [
       "<matplotlib.text.Text at 0x10eceb410>"
      ]
     },
     "execution_count": 19,
     "metadata": {},
     "output_type": "execute_result"
    },
    {
     "data": {
      "image/png": "[encoded data removed]",
      "text/plain": [
       "<matplotlib.figure.Figure at 0x10d34db10>"
      ]
     },
     "metadata": {},
     "output_type": "display_data"
    }
   ],
   "source": [
    "plotModel(svm_model, iris.data[:, 2], iris.data[:, 3], iris.target)\n",
    "pl.xlabel('Petal Length')\n",
    "pl.ylabel('Petal Width')"
   ]
  },
  {
   "cell_type": "markdown",
   "metadata": {},
   "source": [
    "<p><a name=\"1caes3\"></a></p>\n",
    "### Case 3: Grid Search\n",
    "\n",
    "There are many parameters to be set in SVM:\n",
    "\n",
    "- Which kernel.\n",
    "- The value of $C. \\quad$\n",
    "- The degree in polynomial kernel.\n",
    "\n",
    "We can use the function **grid_search.GridSearchCV** to select the best combination of parameters."
   ]
  },
  {
   "cell_type": "code",
   "execution_count": 20,
   "metadata": {
    "collapsed": true
   },
   "outputs": [],
   "source": [
    "import sklearn.grid_search as gs\n",
    "grid_para_svm = [{'C': [1, 10, 100, 1000], 'kernel': ['poly'], 'degree': [1, 2, 3]}, \\\n",
    "                 {'C': [1, 10, 100, 1000], 'gamma': [0.001, 0.0001], 'kernel': ['rbf']}]"
   ]
  },
  {
   "cell_type": "code",
   "execution_count": 21,
   "metadata": {
    "collapsed": false
   },
   "outputs": [
    {
     "data": {
      "text/plain": [
       "GridSearchCV(cv=3, error_score='raise',\n",
       "       estimator=SVC(C=1, cache_size=200, class_weight=None, coef0=0.0,\n",
       "  decision_function_shape=None, degree=1, gamma='auto', kernel='poly',\n",
       "  max_iter=-1, probability=False, random_state=None, shrinking=True,\n",
       "  tol=0.001, verbose=False),\n",
       "       fit_params={}, iid=True, n_jobs=1,\n",
       "       param_grid=[{'kernel': ['poly'], 'C': [1, 10, 100, 1000], 'degree': [1, 2, 3]}, {'kernel': ['rbf'], 'C': [1, 10, 100, 1000], 'gamma': [0.001, 0.0001]}],\n",
       "       pre_dispatch='2*n_jobs', refit=True, scoring='accuracy', verbose=0)"
      ]
     },
     "execution_count": 21,
     "metadata": {},
     "output_type": "execute_result"
    }
   ],
   "source": [
    "grid_search_svm = gs.GridSearchCV(svm_model, grid_para_svm, scoring = 'accuracy', cv=3)\n",
    "grid_search_svm.fit(iris.data, iris.target)"
   ]
  },
  {
   "cell_type": "markdown",
   "metadata": {},
   "source": [
    "Inspect the result of grid search."
   ]
  },
  {
   "cell_type": "code",
   "execution_count": 22,
   "metadata": {
    "collapsed": false
   },
   "outputs": [
    {
     "data": {
      "text/plain": [
       "[mean: 0.96667, std: 0.01820, params: {'kernel': 'poly', 'C': 1, 'degree': 1},\n",
       " mean: 0.96667, std: 0.04622, params: {'kernel': 'poly', 'C': 1, 'degree': 2},\n",
       " mean: 0.96667, std: 0.04622, params: {'kernel': 'poly', 'C': 1, 'degree': 3},\n",
       " mean: 0.97333, std: 0.03697, params: {'kernel': 'poly', 'C': 10, 'degree': 1},\n",
       " mean: 0.96667, std: 0.04622, params: {'kernel': 'poly', 'C': 10, 'degree': 2},\n",
       " mean: 0.96667, std: 0.04622, params: {'kernel': 'poly', 'C': 10, 'degree': 3},\n",
       " mean: 0.97333, std: 0.03697, params: {'kernel': 'poly', 'C': 100, 'degree': 1},\n",
       " mean: 0.96667, std: 0.04622, params: {'kernel': 'poly', 'C': 100, 'degree': 2},\n",
       " mean: 0.96000, std: 0.04236, params: {'kernel': 'poly', 'C': 100, 'degree': 3},\n",
       " mean: 0.97333, std: 0.03697, params: {'kernel': 'poly', 'C': 1000, 'degree': 1},\n",
       " mean: 0.96667, std: 0.04622, params: {'kernel': 'poly', 'C': 1000, 'degree': 2},\n",
       " mean: 0.96000, std: 0.04236, params: {'kernel': 'poly', 'C': 1000, 'degree': 3},\n",
       " mean: 0.91333, std: 0.01675, params: {'kernel': 'rbf', 'C': 1, 'gamma': 0.001},\n",
       " mean: 0.91333, std: 0.01675, params: {'kernel': 'rbf', 'C': 1, 'gamma': 0.0001},\n",
       " mean: 0.94667, std: 0.02391, params: {'kernel': 'rbf', 'C': 10, 'gamma': 0.001},\n",
       " mean: 0.91333, std: 0.01675, params: {'kernel': 'rbf', 'C': 10, 'gamma': 0.0001},\n",
       " mean: 0.97333, std: 0.00897, params: {'kernel': 'rbf', 'C': 100, 'gamma': 0.001},\n",
       " mean: 0.94667, std: 0.02391, params: {'kernel': 'rbf', 'C': 100, 'gamma': 0.0001},\n",
       " mean: 0.98667, std: 0.01849, params: {'kernel': 'rbf', 'C': 1000, 'gamma': 0.001},\n",
       " mean: 0.97333, std: 0.00897, params: {'kernel': 'rbf', 'C': 1000, 'gamma': 0.0001}]"
      ]
     },
     "execution_count": 22,
     "metadata": {},
     "output_type": "execute_result"
    }
   ],
   "source": [
    "grid_search_svm.grid_scores_"
   ]
  },
  {
   "cell_type": "markdown",
   "metadata": {},
   "source": [
    "The best combination of parameters is:"
   ]
  },
  {
   "cell_type": "code",
   "execution_count": 23,
   "metadata": {
    "collapsed": false
   },
   "outputs": [
    {
     "data": {
      "text/plain": [
       "{'C': 1000, 'gamma': 0.001, 'kernel': 'rbf'}"
      ]
     },
     "execution_count": 23,
     "metadata": {},
     "output_type": "execute_result"
    }
   ],
   "source": [
    "grid_search_svm.best_params_"
   ]
  },
  {
   "cell_type": "code",
   "execution_count": 24,
   "metadata": {
    "collapsed": false
   },
   "outputs": [
    {
     "data": {
      "text/plain": [
       "0.98666666666666669"
      ]
     },
     "execution_count": 24,
     "metadata": {},
     "output_type": "execute_result"
    }
   ],
   "source": [
    "## The best score is\n",
    "grid_search_svm.best_score_"
   ]
  },
  {
   "cell_type": "code",
   "execution_count": 25,
   "metadata": {
    "collapsed": false
   },
   "outputs": [
    {
     "data": {
      "text/plain": [
       "0.97999999999999998"
      ]
     },
     "execution_count": 25,
     "metadata": {},
     "output_type": "execute_result"
    }
   ],
   "source": [
    "## The performance on the original data set is:\n",
    "grid_search_svm.score(iris.data, iris.target)"
   ]
  },
  {
   "cell_type": "markdown",
   "metadata": {},
   "source": [
    "It seems `best_score_` from grid search is better than the score on the whole training data. Does that make sense?"
   ]
  },
  {
   "cell_type": "code",
   "execution_count": 26,
   "metadata": {
    "collapsed": false
   },
   "outputs": [],
   "source": [
    "import sklearn.cross_validation as cv\n",
    "lst1 = []\n",
    "lst2 = []\n",
    "for i in range(50):\n",
    "    index = np.random.choice(range(150),size=150, replace=False)\n",
    "    x = iris.data[index,:]\n",
    "    y = iris.target[index]\n",
    "    k4s = cv.StratifiedKFold(y, 3)\n",
    "    grid_search_svm = gs.GridSearchCV(svm_model, grid_para_svm, scoring = 'accuracy', cv=k4s)\n",
    "    grid_search_svm.fit(x, y)\n",
    "    lst1.append(grid_search_svm.best_score_)\n",
    "    lst2.append(grid_search_svm.score(x, y))"
   ]
  },
  {
   "cell_type": "code",
   "execution_count": 28,
   "metadata": {
    "collapsed": false
   },
   "outputs": [
    {
     "name": "stdout",
     "output_type": "stream",
     "text": [
      "0.976666666667\n",
      "0.981066666667\n"
     ]
    }
   ],
   "source": [
    "print np.mean(lst1)\n",
    "print np.mean(lst2)"
   ]
  },
  {
   "cell_type": "markdown",
   "metadata": {
    "collapsed": true
   },
   "source": [
    "<p><a name=\"tree\"></a></p>\n",
    "## Decision Tree in Scikit Learn\n",
    "\n",
    "- Similar to regression, we use the same procedure to fit a classification tree.\n",
    "\n",
    "- For regression we used the RSS to determine the splitting,  what should we use for classification? Two commonly used metrics are:\n",
    "\n",
    "  - gini impurity: $I_G(f) = \\sum_{i=1}^m f_i(1-f_i)$\n",
    "\n",
    "  - information gain: $I_E(f) = \\sum_{i=1}^m f_i \\log_2(f_i)$\n",
    "  \n",
    "where $f_i$ is the fraction of items labeled with $i$ in the set and $\\sum f_i = 1$."
   ]
  },
  {
   "cell_type": "code",
   "execution_count": 29,
   "metadata": {
    "collapsed": false
   },
   "outputs": [
    {
     "data": {
      "image/png": "[encoded data removed]",
      "text/plain": [
       "<matplotlib.figure.Figure at 0x10eb71610>"
      ]
     },
     "metadata": {},
     "output_type": "display_data"
    }
   ],
   "source": [
    "import math\n",
    "x = linspace(0,1,100)[1:-1]\n",
    "y1 = map(lambda i:2*i*(1-i), x)\n",
    "y2 = map(lambda t: -t*math.log(t,2)-(1-t)*math.log((1-t),2), x)\n",
    "\n",
    "plt.plot(x, y1, label='gini')\n",
    "plt.plot(x, y2, label='entropy')\n",
    "plt.legend(loc=1)\n",
    "plt.show()"
   ]
  },
  {
   "cell_type": "markdown",
   "metadata": {},
   "source": [
    "<p><a name=\"2ex1\"></a></p>\n",
    "### Exercise : Gini impurity and Information Gain\n",
    "\n",
    "- We will use the `purity` function defined below:"
   ]
  },
  {
   "cell_type": "code",
   "execution_count": 30,
   "metadata": {
    "collapsed": true
   },
   "outputs": [],
   "source": [
    "from collections import Counter\n",
    "import math\n",
    "\n",
    "def purity(L, metric='gini'):\n",
    "    total = len(L)\n",
    "    freq = map(lambda x: float(x)/total,list(Counter(L).viewvalues()))\n",
    "    if metric == 'gini':\n",
    "        scores = map(lambda x: x*(1-x), freq)\n",
    "    elif metric == 'entropy':\n",
    "        scores = map(lambda x: -x*math.log(x,2), freq)\n",
    "    return sum(scores)"
   ]
  },
  {
   "cell_type": "markdown",
   "metadata": {},
   "source": [
    "Suppose there are 10 people in a group, 5 male and 5 female. Their heights are listed below\n",
    "\n",
    "5'2\"|5'3\"|5'5\"|5'6\"|5'6\"|5'7\"|5'7\"|5'8\"|5'10\"|5'11\"\n",
    "-|-|-|-|-|-|-|-|-|-\n",
    "f|f|f|f|m|f|m|m|m|m\n",
    "\n",
    "\n",
    "L = ['f','f','f','f','m','f','m','m','m','m']\n",
    "- What is the gini impurity?"
   ]
  },
  {
   "cell_type": "code",
   "execution_count": null,
   "metadata": {
    "collapsed": true
   },
   "outputs": [],
   "source": [
    "#### Your code here"
   ]
  },
  {
   "cell_type": "markdown",
   "metadata": {},
   "source": [
    "- If we split the group from the middle (between 5'6\" and 5'7\") into \n",
    "  - L1 = ['f','f','f','f','m'], and \n",
    "  - L1 = ['f','m','m','m','m'],\n",
    "  what is the weighted sum of gini impurity? And what is the change of gini impurity before and after splitting?"
   ]
  },
  {
   "cell_type": "code",
   "execution_count": null,
   "metadata": {
    "collapsed": true
   },
   "outputs": [],
   "source": [
    "#### Your code here"
   ]
  },
  {
   "cell_type": "markdown",
   "metadata": {},
   "source": [
    "- Try different cutpoints to see which points gives the maximum difference? How can we use this cutpoint for our prediction? "
   ]
  },
  {
   "cell_type": "code",
   "execution_count": 33,
   "metadata": {
    "collapsed": false
   },
   "outputs": [
    {
     "name": "stdout",
     "output_type": "stream",
     "text": [
      "Populating the interactive namespace from numpy and matplotlib\n"
     ]
    },
    {
     "data": {
      "text/plain": [
       "<matplotlib.collections.PathCollection at 0x10fa47c50>"
      ]
     },
     "execution_count": 33,
     "metadata": {},
     "output_type": "execute_result"
    },
    {
     "data": {
      "image/png": "[encoded data removed]",
      "text/plain": [
       "<matplotlib.figure.Figure at 0x10f150510>"
      ]
     },
     "metadata": {},
     "output_type": "display_data"
    }
   ],
   "source": [
    "%pylab inline\n",
    "import matplotlib.pyplot as plt\n",
    "x = range(1, len(L))\n",
    "y = map(lambda i: gini-i*purity(L[:i])/len(L) \\\n",
    "        -(len(L)-i)*purity(L[i:])/len(L), x) \n",
    "plt.scatter(x, y)"
   ]
  },
  {
   "cell_type": "markdown",
   "metadata": {},
   "source": [
    "## Decision Tree in Scikit Learn\n",
    "\n",
    "The function **tree.DecisionTreeClassifier** in sklearn can be used to implement decision tree."
   ]
  },
  {
   "cell_type": "code",
   "execution_count": 34,
   "metadata": {
    "collapsed": true
   },
   "outputs": [],
   "source": [
    "from sklearn import tree\n",
    "tree_model = tree.DecisionTreeClassifier()"
   ]
  },
  {
   "cell_type": "markdown",
   "metadata": {},
   "source": [
    "### Arguments:\n",
    "\n",
    "- **criterion**: \"gini\" or \"entropy\", corresponding to the criteria of \"gini impurity\" and \"information gain\". default = 'gini'.\n",
    "\n",
    "- **max_depth**: The maximum depth of the tree. default = None, which means the nodes will be expanded until all leaves are pure or until all leaves contain less than min_samples_split samples.\n",
    "\n",
    "- **min_samples_split**: The minimum number of samples required to split. default = 2.\n",
    "\n",
    "- **min_samples_leaf **: The minimum number of samples required to be at a terminate node. default = 1."
   ]
  },
  {
   "cell_type": "markdown",
   "metadata": {},
   "source": [
    "### Methods:\n",
    "\n",
    "- **fit**: Build a decision tree from the training set (X, y).\n",
    "\n",
    "- **predict**: \tPredict class or regression value for X.\n",
    "\n",
    "- **predict_log_proba**\tPredict class log-probabilities of the input samples X.\n",
    "\n",
    "- **predict_proba**\tPredict class probabilities of the input samples X.\n",
    "\n",
    "- **score**:\tReturn the mean accuracy on the given test data and labels.\n",
    "\n",
    "- **set_params**:\tSet the parameters of this estimator.\n",
    "\n",
    "- **get_params**: Get parameters for this estimator."
   ]
  },
  {
   "cell_type": "markdown",
   "metadata": {},
   "source": [
    "### Attributes:\n",
    "\n",
    "- **tree\\_**: Tree object, the underlying tree object.\n",
    "\n",
    "- **feature\\_importances\\_**: The feature importances. The higher, the more important the feature. Also known as gini importance."
   ]
  },
  {
   "cell_type": "markdown",
   "metadata": {},
   "source": [
    "<p><a name=\"2case1\"></a></p>\n",
    "### Case 1: Iris Data\n",
    "\n",
    "We use all the observations and the last two features, \"petal length\" and \"petal width\", in the iris data to build a decision-tree."
   ]
  },
  {
   "cell_type": "code",
   "execution_count": 35,
   "metadata": {
    "collapsed": false
   },
   "outputs": [
    {
     "data": {
      "text/plain": [
       "DecisionTreeClassifier(class_weight=None, criterion='gini', max_depth=None,\n",
       "            max_features=None, max_leaf_nodes=None, min_samples_leaf=1,\n",
       "            min_samples_split=2, min_weight_fraction_leaf=0.0,\n",
       "            presort=False, random_state=None, splitter='best')"
      ]
     },
     "execution_count": 35,
     "metadata": {},
     "output_type": "execute_result"
    }
   ],
   "source": [
    "from sklearn import datasets\n",
    "iris = datasets.load_iris()\n",
    "tree_model.fit(iris.data[:, 2:4], iris.target)"
   ]
  },
  {
   "cell_type": "markdown",
   "metadata": {},
   "source": [
    "We can find the performance of the model and the importance of each feature. "
   ]
  },
  {
   "cell_type": "code",
   "execution_count": 36,
   "metadata": {
    "collapsed": false
   },
   "outputs": [
    {
     "data": {
      "text/plain": [
       "0.99333333333333329"
      ]
     },
     "execution_count": 36,
     "metadata": {},
     "output_type": "execute_result"
    }
   ],
   "source": [
    "## We can see that the performance of decision tree is amazingly good!\n",
    "tree_model.score(iris.data[:, 2:4], iris.target)"
   ]
  },
  {
   "cell_type": "code",
   "execution_count": 37,
   "metadata": {
    "collapsed": false
   },
   "outputs": [
    {
     "name": "stdout",
     "output_type": "stream",
     "text": [
      "[ 0.06492158  0.93507842]\n"
     ]
    }
   ],
   "source": [
    "print tree_model.feature_importances_"
   ]
  },
  {
   "cell_type": "markdown",
   "metadata": {},
   "source": [
    "We visualize the decision boundary of the tree:"
   ]
  },
  {
   "cell_type": "code",
   "execution_count": 38,
   "metadata": {
    "collapsed": false
   },
   "outputs": [
    {
     "data": {
      "text/plain": [
       "<matplotlib.text.Text at 0x10fab94d0>"
      ]
     },
     "execution_count": 38,
     "metadata": {},
     "output_type": "execute_result"
    },
    {
     "data": {
      "image/png": "[encoded data removed]",
      "text/plain": [
       "<matplotlib.figure.Figure at 0x10fa64310>"
      ]
     },
     "metadata": {},
     "output_type": "display_data"
    }
   ],
   "source": [
    "plotModel(tree_model, iris.data[:, 2], iris.data[:, 3], iris.target)\n",
    "pl.xlabel('Petal Length')\n",
    "pl.ylabel('Petal Width')"
   ]
  },
  {
   "cell_type": "markdown",
   "metadata": {},
   "source": [
    "<p><a name=\"2case2\"></a></p>\n",
    "### Case 2: Spam Filter\n",
    "\n",
    "In this case we try to fit a decision tree on the spam data set."
   ]
  },
  {
   "cell_type": "code",
   "execution_count": 40,
   "metadata": {
    "collapsed": false
   },
   "outputs": [],
   "source": [
    "# prepare data \n",
    "import pandas as pd\n",
    "import numpy as np\n",
    "train = pd.read_csv('data/spam_train.csv')\n",
    "test = pd.read_csv('data/spam_test.csv')\n",
    "## separate the predictors and response in the training data set\n",
    "x_train = np.array(train.iloc[:, 0:57])\n",
    "y_train = np.ravel(train.iloc[:, -1])\n",
    "## separate the predictors and response in the test data set\n",
    "x_test = np.array(test.iloc[:, 0:57])\n",
    "y_test = np.ravel(test.iloc[:, -1])"
   ]
  },
  {
   "cell_type": "markdown",
   "metadata": {},
   "source": [
    "Fit on the training data derictly:"
   ]
  },
  {
   "cell_type": "code",
   "execution_count": 41,
   "metadata": {
    "collapsed": false
   },
   "outputs": [
    {
     "name": "stdout",
     "output_type": "stream",
     "text": [
      "The training error is: 0.00043\n",
      "The test     error is: 0.09996\n"
     ]
    }
   ],
   "source": [
    "tree_model.fit(x_train, y_train)\n",
    "print \"The training error is: %.5f\" %(1-tree_model.score(x_train, y_train))\n",
    "print \"The test     error is: %.5f\" %(1-tree_model.score(x_test, y_test))"
   ]
  },
  {
   "cell_type": "markdown",
   "metadata": {},
   "source": [
    "- The training error here is also very low.\n",
    "- While the test error is a little higher than the training error.\n",
    "- Compared with the other model, decision tree performs quite well."
   ]
  },
  {
   "cell_type": "markdown",
   "metadata": {},
   "source": [
    "The decision tree returns importance. We see that there a lot of features with zero importance, which allow feature selection."
   ]
  },
  {
   "cell_type": "code",
   "execution_count": 42,
   "metadata": {
    "collapsed": false
   },
   "outputs": [
    {
     "data": {
      "text/plain": [
       "array([ 0.00164646,  0.00266829,  0.00121286,  0.        ,  0.01270477,\n",
       "        0.00255254,  0.17003175,  0.00920632,  0.00298136,  0.01477893,\n",
       "        0.0056501 ,  0.0072941 ,  0.00121286,  0.00052926,  0.0016539 ,\n",
       "        0.02773903,  0.00681913,  0.00560109,  0.0206828 ,  0.00052557,\n",
       "        0.01791408,  0.        ,  0.00700175,  0.00792525,  0.06179747,\n",
       "        0.        ,  0.00368922,  0.00374245,  0.00176496,  0.00136447,\n",
       "        0.        ,  0.        ,  0.00121286,  0.        ,  0.00319272,\n",
       "        0.00236383,  0.00361791,  0.        ,  0.0120713 ,  0.        ,\n",
       "        0.        ,  0.00517029,  0.00855435,  0.        ,  0.0121638 ,\n",
       "        0.01322621,  0.        ,  0.        ,  0.        ,  0.0109448 ,\n",
       "        0.00349707,  0.09140017,  0.32321616,  0.00154115,  0.02907782,\n",
       "        0.0280426 ,  0.05001618])"
      ]
     },
     "execution_count": 42,
     "metadata": {},
     "output_type": "execute_result"
    }
   ],
   "source": [
    "tree_model.feature_importances_"
   ]
  },
  {
   "cell_type": "markdown",
   "metadata": {},
   "source": [
    "<p><a name=\"2case3\"></a></p>\n",
    "### Case 3: Grid Search \n",
    "\n",
    "- Since the test error is much higher than training error, the model may overfit the training data.\n",
    "- Use cross-validation to find out the best parameters and evaluate the model."
   ]
  },
  {
   "cell_type": "code",
   "execution_count": 43,
   "metadata": {
    "collapsed": false
   },
   "outputs": [
    {
     "data": {
      "text/plain": [
       "GridSearchCV(cv=5, error_score='raise',\n",
       "       estimator=DecisionTreeClassifier(class_weight=None, criterion='gini', max_depth=None,\n",
       "            max_features=None, max_leaf_nodes=None, min_samples_leaf=1,\n",
       "            min_samples_split=2, min_weight_fraction_leaf=0.0,\n",
       "            presort=False, random_state=None, splitter='best'),\n",
       "       fit_params={}, iid=True, n_jobs=1,\n",
       "       param_grid=[{'min_samples_split': array([  2.,   4.,   6.,   8.,  10.,  12.,  14.,  16.,  18.,  20.,  22.,\n",
       "        24.,  26.,  28.,  30.]), 'criterion': ['gini', 'entropy'], 'min_samples_leaf': [1, 2, 3, 4, 5, 6, 7, 8, 9]}],\n",
       "       pre_dispatch='2*n_jobs', refit=True, scoring='accuracy', verbose=0)"
      ]
     },
     "execution_count": 43,
     "metadata": {},
     "output_type": "execute_result"
    }
   ],
   "source": [
    "import sklearn.grid_search as gs\n",
    "np.random.seed(108)\n",
    "grid_para_tree = [{\"criterion\": [\"gini\", \"entropy\"], \"min_samples_leaf\": range(1, 10),\n",
    "                   \"min_samples_split\": np.linspace(2, 30, 15)}]\n",
    "grid_search_tree = gs.GridSearchCV(tree_model, grid_para_tree, cv=5,\n",
    "                                   scoring='accuracy')\n",
    "grid_search_tree.fit(x_train, y_train)"
   ]
  },
  {
   "cell_type": "code",
   "execution_count": 44,
   "metadata": {
    "collapsed": false
   },
   "outputs": [
    {
     "data": {
      "text/plain": [
       "{'criterion': 'entropy', 'min_samples_leaf': 2, 'min_samples_split': 24.0}"
      ]
     },
     "execution_count": 44,
     "metadata": {},
     "output_type": "execute_result"
    }
   ],
   "source": [
    "## best parameter\n",
    "grid_search_tree.best_params_"
   ]
  },
  {
   "cell_type": "code",
   "execution_count": 45,
   "metadata": {
    "collapsed": false
   },
   "outputs": [
    {
     "data": {
      "text/plain": [
       "0.91391304347826086"
      ]
     },
     "execution_count": 45,
     "metadata": {},
     "output_type": "execute_result"
    }
   ],
   "source": [
    "## best score\n",
    "grid_search_tree.best_score_"
   ]
  },
  {
   "cell_type": "markdown",
   "metadata": {},
   "source": [
    "- The best \"min_samples_split\" is 30 here, while the default value is 2, which may overfit the training data and underestimate the test error.\n",
    "- It is necessary to use cross-validation method to choose the parameters."
   ]
  },
  {
   "cell_type": "code",
   "execution_count": 46,
   "metadata": {
    "collapsed": false
   },
   "outputs": [
    {
     "data": {
      "text/plain": [
       "0.95999999999999996"
      ]
     },
     "execution_count": 46,
     "metadata": {},
     "output_type": "execute_result"
    }
   ],
   "source": [
    "## The overall accuracy on the training set:\n",
    "grid_search_tree.score(x_train, y_train)"
   ]
  },
  {
   "cell_type": "code",
   "execution_count": 47,
   "metadata": {
    "collapsed": false
   },
   "outputs": [
    {
     "data": {
      "text/plain": [
       "0.9048239895697523"
      ]
     },
     "execution_count": 47,
     "metadata": {},
     "output_type": "execute_result"
    }
   ],
   "source": [
    "## The overall accuracy on the test set:\n",
    "grid_search_tree.score(x_test, y_test)"
   ]
  },
  {
   "cell_type": "markdown",
   "metadata": {},
   "source": [
    "<p><a name=\"2case4\"></a></p>\n",
    "### Case 4: Depth of Tree\n",
    "\n",
    "- The code below displays the learning curve. The training and the testing error are plotted against the depth of the trees."
   ]
  },
  {
   "cell_type": "code",
   "execution_count": 48,
   "metadata": {
    "collapsed": false
   },
   "outputs": [
    {
     "name": "stdout",
     "output_type": "stream",
     "text": [
      "Populating the interactive namespace from numpy and matplotlib\n"
     ]
    },
    {
     "name": "stderr",
     "output_type": "stream",
     "text": [
      "WARNING: pylab import has clobbered these variables: ['test']\n",
      "`%matplotlib` prevents importing * from pylab and numpy\n"
     ]
    },
    {
     "data": {
      "image/png": "[encoded data removed]",
      "text/plain": [
       "<matplotlib.figure.Figure at 0x10e7561d0>"
      ]
     },
     "metadata": {},
     "output_type": "display_data"
    }
   ],
   "source": [
    "depth = range(5, 50)\n",
    "train_error = []\n",
    "test_error = []\n",
    "for i in depth:\n",
    "    tree_model.set_params(max_depth = i, min_samples_leaf=1)\n",
    "    tree_model.fit(x_train, y_train)\n",
    "    train_error.append(1 - tree_model.score(x_train, y_train))\n",
    "    test_error.append(1 - tree_model.score(x_test, y_test))\n",
    "\n",
    "%pylab inline\n",
    "import matplotlib.pyplot as pl\n",
    "pl.plot(depth, train_error, c = 'red', label = 'training error')\n",
    "pl.plot(depth, test_error, c = 'blue', label = 'test error')\n",
    "pl.ylim(0, 0.18)\n",
    "pl.legend()\n",
    "pl.show()"
   ]
  },
  {
   "cell_type": "markdown",
   "metadata": {},
   "source": [
    "As the depth of the tree increase:\n",
    "\n",
    "- The training error goes down.\n",
    "- The test error does not change too much.\n",
    "- For interpretability, it's better to choose a smaller tree."
   ]
  },
  {
   "cell_type": "markdown",
   "metadata": {},
   "source": [
    "### Decision Trees Pros and Cons\n",
    "\n",
    "- Pros:\n",
    "  - Interpretability: easier to explain than most other regression methods.\n",
    "  - Easy to handle qualitative predictors.\n",
    "  - Can be displayed graphically.\n",
    "- Cons:\n",
    "  - Instability: a small change in the data may result in a huge different splits.\n",
    "  - Predictive accuracy usually not as good as other approaches.\n",
    "- By aggregating many decision trees, the predictive performance can be improved substantially.\n"
   ]
  },
  {
   "cell_type": "markdown",
   "metadata": {},
   "source": [
    "<p><a name=\"rf\"></a></p>\n",
    "## Random Forest in Scikit Learn\n",
    "\n",
    "### Bagging\n",
    "\n",
    "By averaging a collection of bootstrap (repeated) samples from the training data set, we can dramatically reduce the variance of trees, leading to improved prediction, this is called bagging.\n",
    "\n",
    "- generate B bootstrapped training dataset.\n",
    "\n",
    "- for each test observation, we record the class predicted by each of the B trees, and choose the majority\n",
    "\n",
    "- the overall prediction is the most commonly occurring class among the B predictions.\n",
    "\n",
    "\n",
    "\n",
    "The function **ensemble.RandomForestClassifier** in library sklean can be used to implement random forest."
   ]
  },
  {
   "cell_type": "code",
   "execution_count": 49,
   "metadata": {
    "collapsed": true
   },
   "outputs": [],
   "source": [
    "from sklearn import ensemble\n",
    "randomForest = ensemble.RandomForestClassifier()"
   ]
  },
  {
   "cell_type": "markdown",
   "metadata": {},
   "source": [
    "### Arguments\n",
    "\n",
    "Since random forest is combined by decision trees, it also has the arguments of tree: \n",
    "\n",
    "- **criterion** : default=”gini”.\n",
    "- **max_depth**: default = None.\n",
    "- **min_samples_split**: default = 2.\n",
    "- **min_samples_leaf**: default = 1.\n",
    "- **n_estimators**: The number of trees. default=100.\n",
    "- **bootstrap**: Whether bootstrap samples are used when building trees. default=true.\n",
    "- **oob_score**: Whether to use out-of-bag samples to estimate the generalization error. default=false.\n",
    "\n",
    "### Methods\n",
    "\n",
    "- **fit**: Build a forest of trees from the training set (X, y).\n",
    "- **score**: Return the mean accuracy on the given test data and labels.\n",
    "- **predict**: Predict class for X.\n",
    "- **predict_log_proba**: Predict class log-probabilities for X.\n",
    "- **predict_proba**: Predict class probabilities for X.\n",
    "- **set_params**: Set the parameters of this estimator.\n",
    "- **get_params**: Get parameters for this estimator.\n",
    "\n",
    "### Attributes\n",
    "\n",
    "- **feature\\_importances\\_**:The feature importances (the higher, the more important the feature).\n",
    "\n",
    "- **oob\\_score\\_**: Score of the training dataset obtained using an out-of-bag estimate."
   ]
  },
  {
   "cell_type": "markdown",
   "metadata": {},
   "source": [
    "<p><a name=\"3case1\"></a></p>\n",
    "### Case 1: Iris Data"
   ]
  },
  {
   "cell_type": "markdown",
   "metadata": {},
   "source": [
    "We use all the observations and the last two features, \"petal length\" and \"petal width\", in the iris data to build a decision-tree."
   ]
  },
  {
   "cell_type": "code",
   "execution_count": 50,
   "metadata": {
    "collapsed": false
   },
   "outputs": [
    {
     "data": {
      "text/plain": [
       "0.99333333333333329"
      ]
     },
     "execution_count": 50,
     "metadata": {},
     "output_type": "execute_result"
    }
   ],
   "source": [
    "np.random.seed(1)\n",
    "randomForest.fit(iris.data[:, 2:4], iris.target) # fit \n",
    "randomForest.score(iris.data[:, 2:4], iris.target) # accuracy"
   ]
  },
  {
   "cell_type": "code",
   "execution_count": 51,
   "metadata": {
    "collapsed": false
   },
   "outputs": [
    {
     "data": {
      "text/plain": [
       "<matplotlib.text.Text at 0x118d5fb90>"
      ]
     },
     "execution_count": 51,
     "metadata": {},
     "output_type": "execute_result"
    },
    {
     "data": {
      "image/png": "[encoded data removed]",
      "text/plain": [
       "<matplotlib.figure.Figure at 0x118d44dd0>"
      ]
     },
     "metadata": {},
     "output_type": "display_data"
    }
   ],
   "source": [
    "plotModel(randomForest, iris.data[:, 2], iris.data[:, 3], iris.target)\n",
    "pl.xlabel('Petal Length')\n",
    "pl.ylabel('Petal Width')"
   ]
  },
  {
   "cell_type": "markdown",
   "metadata": {},
   "source": [
    "The boundary of random forest is highly non-linear, and hard to interpret."
   ]
  },
  {
   "cell_type": "markdown",
   "metadata": {},
   "source": [
    "<p><a name=\"3case2\"></a></p>\n",
    "### Case 2: Spam Filter\n",
    "\n",
    "In this case we fit a random forest on the spam data. We first prepare the data:"
   ]
  },
  {
   "cell_type": "code",
   "execution_count": 52,
   "metadata": {
    "collapsed": false
   },
   "outputs": [],
   "source": [
    "import pandas as pd\n",
    "import sklearn.cross_validation as cv\n",
    "spam_train = pd.read_csv('./data/spam_train.csv')\n",
    "spam_test = pd.read_csv('./data/spam_test.csv')\n",
    "x_train = np.array(spam_train.iloc[:, :57])\n",
    "y_train = np.array(spam_train.iloc[:, -1])\n",
    "x_test = np.array(spam_test.iloc[:, :57])\n",
    "y_test = np.array(spam_test.iloc[:, -1])"
   ]
  },
  {
   "cell_type": "code",
   "execution_count": 53,
   "metadata": {
    "collapsed": false
   },
   "outputs": [
    {
     "name": "stdout",
     "output_type": "stream",
     "text": [
      "The training error of random forest is: 0.00043\n",
      "The test     error of random forest is: 0.05780\n"
     ]
    }
   ],
   "source": [
    "np.random.seed(1)\n",
    "randomForest.set_params(n_estimators=50)\n",
    "randomForest.fit(x_train, y_train)\n",
    "print \"The training error of random forest is: %.5f\" %(1-randomForest.score(x_train, y_train))\n",
    "print \"The test     error of random forest is: %.5f\" %(1-randomForest.score(x_test, y_test))"
   ]
  },
  {
   "cell_type": "markdown",
   "metadata": {},
   "source": [
    "### Feature Importance\n",
    "\n",
    "- We then sort the features by importance:"
   ]
  },
  {
   "cell_type": "code",
   "execution_count": 54,
   "metadata": {
    "collapsed": false
   },
   "outputs": [
    {
     "data": {
      "text/plain": [
       "array([('A.52', 0.13703054014879038), ('A.53', 0.10138275637238126),\n",
       "       ('A.55', 0.080019529879591), ('A.7', 0.07750593621455441),\n",
       "       ('A.21', 0.053417504303190234), ('A.16', 0.04871844276061167),\n",
       "       ('A.56', 0.046098576895094265), ('A.25', 0.04030202822924379),\n",
       "       ('A.24', 0.03686407569353951), ('A.5', 0.03659687451362182),\n",
       "       ('A.19', 0.027636190695141755), ('A.23', 0.017168691881403884),\n",
       "       ('A.27', 0.01650388530054146), ('A.17', 0.0148649834599953),\n",
       "       ('A.46', 0.014123461853311165), ('A.11', 0.013884966143222854),\n",
       "       ('A.26', 0.013415530018130999), ('A.50', 0.012216009377617347),\n",
       "       ('A.8', 0.011701511500561), ('A.37', 0.011197826428211767),\n",
       "       ('A.12', 0.010480104050571036), ('A.18', 0.009621385996535734),\n",
       "       ('A.45', 0.009262299436612014), ('A.3', 0.008674586950899718),\n",
       "       ('A.10', 0.008143663033822145), ('A.6', 0.007181492386500117),\n",
       "       ('A.28', 0.005834877341539431), ('A.49', 0.005789253991879822),\n",
       "       ('A.35', 0.005715997019524488), ('A.36', 0.005321966755728036),\n",
       "       ('A.13', 0.005037134146951399), ('A.42', 0.004890592387446118),\n",
       "       ('A.39', 0.004617011203597646), ('A.2', 0.004544521438679969),\n",
       "       ('A.1', 0.004183603338326448), ('A.9', 0.003929641543384822),\n",
       "       ('A.51', 0.003684888186455607), ('A.33', 0.003103902211793042),\n",
       "       ('A.20', 0.0026799045975133577), ('A.54', 0.002604455998898988),\n",
       "       ('A.43', 0.002600490322265721), ('A.22', 0.0023792600232429694),\n",
       "       ('A.30', 0.0023728286448472372), ('A.44', 0.0018458283260784421),\n",
       "       ('A.31', 0.0016217436756334998), ('A.40', 0.0014512669670718452),\n",
       "       ('A.29', 0.0014394958495264525), ('A.15', 0.0012729715466662658),\n",
       "       ('A.38', 0.0011250741864323528), ('A.41', 0.0010972003180688642),\n",
       "       ('A.14', 0.0010741101390890542), ('A.34', 0.0008094506530030672),\n",
       "       ('A.48', 0.0004993668091753489), ('A.32', 0.00047311127177493114),\n",
       "       ('A.4', 0.00033241850835461466), ('A.47', 0.00010415289248312408)], \n",
       "      dtype=[('feature', 'S10'), ('importance', '<f8')])"
      ]
     },
     "execution_count": 54,
     "metadata": {},
     "output_type": "execute_result"
    }
   ],
   "source": [
    "feature_imprtance = zip(train.columns[:-2], randomForest.feature_importances_)\n",
    "dtype = [('feature', 'S10'), ('importance', 'float')]\n",
    "feature_imprtance = np.array(feature_imprtance, dtype = dtype)\n",
    "feature_sort = np.sort(feature_imprtance, order='importance')[::-1]\n",
    "feature_sort"
   ]
  },
  {
   "cell_type": "code",
   "execution_count": 55,
   "metadata": {
    "collapsed": false
   },
   "outputs": [
    {
     "data": {
      "text/plain": [
       "['A.52', 'A.53', 'A.55', 'A.7', 'A.21', 'A.16', 'A.56', 'A.25', 'A.24', 'A.5']"
      ]
     },
     "execution_count": 55,
     "metadata": {},
     "output_type": "execute_result"
    }
   ],
   "source": [
    "## The first 10 most important features are:\n",
    "[i for (i, j) in feature_sort[0:10]]"
   ]
  },
  {
   "cell_type": "markdown",
   "metadata": {},
   "source": [
    "### OOB-Score\n",
    "\n",
    "- oob-score is the *out of bag* score, which is also used to evaluate the model.\n",
    "- After fitting on the bootstrap sample, it make predictions on the rest of the data set(out of the bootstrap sample).\n",
    "- We can not control the numbers of observations in the out of bag sample.\n",
    "\n",
    "We need to set *oob-score=true* manually when fit the model:"
   ]
  },
  {
   "cell_type": "code",
   "execution_count": 56,
   "metadata": {
    "collapsed": false
   },
   "outputs": [
    {
     "data": {
      "text/plain": [
       "RandomForestClassifier(bootstrap=True, class_weight=None, criterion='gini',\n",
       "            max_depth=None, max_features='auto', max_leaf_nodes=None,\n",
       "            min_samples_leaf=1, min_samples_split=2,\n",
       "            min_weight_fraction_leaf=0.0, n_estimators=50, n_jobs=1,\n",
       "            oob_score=True, random_state=None, verbose=0, warm_start=False)"
      ]
     },
     "execution_count": 56,
     "metadata": {},
     "output_type": "execute_result"
    }
   ],
   "source": [
    "np.random.seed(1)\n",
    "randomForest.set_params(oob_score=True)\n",
    "randomForest.fit(x_train, y_train)"
   ]
  },
  {
   "cell_type": "code",
   "execution_count": 57,
   "metadata": {
    "collapsed": false
   },
   "outputs": [
    {
     "data": {
      "text/plain": [
       "0.94173913043478263"
      ]
     },
     "execution_count": 57,
     "metadata": {},
     "output_type": "execute_result"
    }
   ],
   "source": [
    "randomForest.oob_score_"
   ]
  },
  {
   "cell_type": "markdown",
   "metadata": {},
   "source": [
    "<p><a name=\"3case3\"></a></p>\n",
    "### Case 3: Grid Search\n",
    "\n",
    "As for decision tree, we also need to decide several parameters by grid search. It might take longer for this one."
   ]
  },
  {
   "cell_type": "code",
   "execution_count": 58,
   "metadata": {
    "collapsed": false
   },
   "outputs": [
    {
     "data": {
      "text/plain": [
       "GridSearchCV(cv=5, error_score='raise',\n",
       "       estimator=RandomForestClassifier(bootstrap=True, class_weight=None, criterion='gini',\n",
       "            max_depth=None, max_features='auto', max_leaf_nodes=None,\n",
       "            min_samples_leaf=1, min_samples_split=2,\n",
       "            min_weight_fraction_leaf=0.0, n_estimators=50, n_jobs=1,\n",
       "            oob_score=True, random_state=None, verbose=0, warm_start=False),\n",
       "       fit_params={}, iid=True, n_jobs=1,\n",
       "       param_grid=[{'n_estimators': [10, 50, 100], 'min_samples_split': array([  2.,   4.,   6.,   8.,  10.,  12.,  14.,  16.,  18.,  20.,  22.,\n",
       "        24.,  26.,  28.,  30.]), 'criterion': ['gini', 'entropy'], 'min_samples_leaf': [1, 2, 3, 4, 5, 6, 7, 8, 9]}],\n",
       "       pre_dispatch='2*n_jobs', refit=True, scoring='accuracy', verbose=0)"
      ]
     },
     "execution_count": 58,
     "metadata": {},
     "output_type": "execute_result"
    }
   ],
   "source": [
    "np.random.seed(1)\n",
    "\n",
    "grid_para_forest = [{\"n_estimators\": [10, 50, 100], \"criterion\": [\"gini\", \"entropy\"], \\\n",
    "                    \"min_samples_leaf\": range(1, 10), \"min_samples_split\": np.linspace(2, 30, 15)}]\n",
    "grid_search_forest = gs.GridSearchCV(randomForest, grid_para_forest, scoring='accuracy', cv=5)\n",
    "grid_search_forest.fit(x_train, y_train)"
   ]
  },
  {
   "cell_type": "code",
   "execution_count": 59,
   "metadata": {
    "collapsed": false
   },
   "outputs": [
    {
     "data": {
      "text/plain": [
       "{'criterion': 'gini',\n",
       " 'min_samples_leaf': 1,\n",
       " 'min_samples_split': 2.0,\n",
       " 'n_estimators': 100}"
      ]
     },
     "execution_count": 59,
     "metadata": {},
     "output_type": "execute_result"
    }
   ],
   "source": [
    "grid_search_forest.best_params_"
   ]
  },
  {
   "cell_type": "code",
   "execution_count": 60,
   "metadata": {
    "collapsed": false
   },
   "outputs": [
    {
     "data": {
      "text/plain": [
       "0.94565217391304346"
      ]
     },
     "execution_count": 60,
     "metadata": {},
     "output_type": "execute_result"
    }
   ],
   "source": [
    "grid_search_forest.best_score_"
   ]
  },
  {
   "cell_type": "code",
   "execution_count": 61,
   "metadata": {
    "collapsed": false
   },
   "outputs": [
    {
     "name": "stdout",
     "output_type": "stream",
     "text": [
      "The training error is: 0.00043\n",
      "The test     error is: 0.05693\n"
     ]
    }
   ],
   "source": [
    "print \"The training error is: %.5f\"%(1-grid_search_forest.score(x_train, y_train))\n",
    "print \"The test     error is: %.5f\"%(1-grid_search_forest.score(x_test, y_test))"
   ]
  },
  {
   "cell_type": "markdown",
   "metadata": {},
   "source": [
    "<p><a name=\"3case4\"></a></p>\n",
    "### Case 4: Number of Trees\n",
    "\n",
    "- We plot the errors against the number of trees:"
   ]
  },
  {
   "cell_type": "code",
   "execution_count": 62,
   "metadata": {
    "collapsed": true
   },
   "outputs": [],
   "source": [
    "tree_number = range(10, 500, 10)\n",
    "train_error2 = []\n",
    "test_error2 = []\n",
    "oob_error = []\n",
    "\n",
    "np.random.seed(1)\n",
    "for i in tree_number:\n",
    "    randomForest.set_params(n_estimators = i, oob_score=True)\n",
    "    randomForest.fit(x_train, y_train)\n",
    "    train_error2.append(1 - randomForest.score(x_train, y_train))\n",
    "    test_error2.append(1 - randomForest.score(x_test, y_test))\n",
    "    oob_error.append(1 - randomForest.oob_score_)"
   ]
  },
  {
   "cell_type": "markdown",
   "metadata": {},
   "source": [
    "We see that\n",
    "- The OOB error is very close to the test error.\n",
    "- The training error is much smaller than the OOB error and the test error."
   ]
  },
  {
   "cell_type": "code",
   "execution_count": 63,
   "metadata": {
    "collapsed": false
   },
   "outputs": [
    {
     "data": {
      "image/png": "[encoded data removed]",
      "text/plain": [
       "<matplotlib.figure.Figure at 0x119f9d4d0>"
      ]
     },
     "metadata": {},
     "output_type": "display_data"
    }
   ],
   "source": [
    "import matplotlib.pyplot as pl\n",
    "pl.plot(tree_number, train_error2, c = 'red', label = 'training error')\n",
    "pl.plot(tree_number, test_error2, c = 'blue', label = 'test error')\n",
    "pl.plot(tree_number, oob_error, c = 'pink', label = 'oob error')\n",
    "pl.legend()\n",
    "pl.show()"
   ]
  },
  {
   "cell_type": "markdown",
   "metadata": {},
   "source": [
    "Strengths:\n",
    "- An all-purpose model that performs well on most problems.\n",
    "- Can be used on data with an extremely large number of features. And it automatically selects the most important features.\n",
    "- High accuracy.\n",
    "\n",
    "Weaknesses:\n",
    "- Unlike a decision tree, the model is hard to interpret.\n",
    "- May require some work to tune the parameters.\n"
   ]
  }
 ],
 "metadata": {
  "kernelspec": {
   "display_name": "Python 2",
   "language": "python",
   "name": "python2"
  },
  "language_info": {
   "codemirror_mode": {
    "name": "ipython",
    "version": 2
   },
   "file_extension": ".py",
   "mimetype": "text/x-python",
   "name": "python",
   "nbconvert_exporter": "python",
   "pygments_lexer": "ipython2",
   "version": "2.7.11"
  }
 },
 "nbformat": 4,
 "nbformat_minor": 0
}
