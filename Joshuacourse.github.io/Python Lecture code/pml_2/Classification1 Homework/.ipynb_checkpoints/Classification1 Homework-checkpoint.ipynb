{
 "cells": [
  {
   "cell_type": "markdown",
   "metadata": {},
   "source": [
    "### Problem 1\n",
    "\n",
    "Given the iris data set, use the last two features \"penal length\" and \"penal width\" to predict the \"species\". Build a logistic regression and:\n",
    "\n",
    "- (1) Print out the accuracy\n",
    "- (2) Make a prediction given a new observation $\\text{penal length} = 7$, $\\text{penal width}=4$, as well as the probabilities $p(y=i|x)$.\n",
    "- (3) Plot the linear boundaries, and compare it with the LDA's boundary.\n",
    "\n"
   ]
  },
  {
   "cell_type": "code",
   "execution_count": null,
   "metadata": {
    "collapsed": true
   },
   "outputs": [],
   "source": [
    "### your solution"
   ]
  },
  {
   "cell_type": "markdown",
   "metadata": {},
   "source": [
    "### Problem 2\n",
    "\n",
    "There are three files in the \"data\" folder:\n",
    "\n",
    "    - \"spam_train.csv\"\n",
    "    - \"spam_test.csv\"\n",
    "    - \"spam.txt\"\n",
    "\n",
    "The file \"spam_train.csv\" in the \"data\" folder contains 2300 emails and 58 variables. The last variable \"spam\" is a factor with two levels: \"email\", \"spam\". If you want to know more information about the data set, please read the file \"spam.txt\".\n",
    "\n",
    "Your assignment is based on the \"spam_train.csv\" file, try to build a classifier to predict the variable \"spam\". You need to write a report which contains:\n",
    "\n",
    "- (1) The features you are using to build the model.\n",
    "- (2) At least two models we have learned.\n",
    "- (3) After building the models, report the corresponding accuracy on the training set.\n",
    "- (4) Use you models to make prediction on the \"spam_test.csv\" file, report the corresponding accuracy on this test set.\n",
    "- (5) Compare the performance of the models in the following two aspect:\n",
    "    - (a) the performance of two different models.\n",
    "    - (b) the performance of one model on the training set and test set.\n",
    "    \n",
    "The following codes may be a useful beginning:"
   ]
  },
  {
   "cell_type": "code",
   "execution_count": null,
   "metadata": {
    "collapsed": true
   },
   "outputs": [],
   "source": [
    "import pandas as pd\n",
    "import numpy as np\n",
    "train = pd.read_csv('data/spam_train.csv')\n",
    "test = pd.read_csv('data/spam_test.csv')\n",
    "## separate the predictors and response in the training data set\n",
    "x = np.array(train.iloc[:, 0:57])\n",
    "y = np.ravel(train.iloc[:, -1])\n",
    "## separate the predictors and response in the test data set\n",
    "x2 = np.array(test.iloc[:, 0:57])\n",
    "y2 = np.ravel(test.iloc[:, -1])\n",
    "\n",
    "## have a look at the training data set\n",
    "train.head()"
   ]
  },
  {
   "cell_type": "code",
   "execution_count": null,
   "metadata": {
    "collapsed": true
   },
   "outputs": [],
   "source": [
    "### your solution"
   ]
  }
 ],
 "metadata": {
  "kernelspec": {
   "display_name": "Python 2",
   "language": "python",
   "name": "python2"
  },
  "language_info": {
   "codemirror_mode": {
    "name": "ipython",
    "version": 2
   },
   "file_extension": ".py",
   "mimetype": "text/x-python",
   "name": "python",
   "nbconvert_exporter": "python",
   "pygments_lexer": "ipython2",
   "version": "2.7.11"
  }
 },
 "nbformat": 4,
 "nbformat_minor": 0
}
